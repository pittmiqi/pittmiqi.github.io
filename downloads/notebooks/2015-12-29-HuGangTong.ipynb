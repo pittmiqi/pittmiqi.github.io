{
 "cells": [
  {
   "cell_type": "code",
   "execution_count": 1,
   "metadata": {
    "collapsed": false
   },
   "outputs": [
    {
     "data": {
      "text/html": [
       "<link rel=\"stylesheet\" href=\"https://code.jquery.com/ui/1.11.4/themes/smoothness/jquery-ui.css\">\n",
       "<link href=\"http://www.pitt.edu/~qim3/js/keen-dashboards.css\" rel =\"stylesheet\" type=\"text/css\">\n",
       "<link href=\"https://cdnjs.cloudflare.com/ajax/libs/c3/0.4.10/c3.min.css\" rel=\"stylesheet\" type=\"text/css\">\n",
       "<link href=\"https://cdnjs.cloudflare.com/ajax/libs/dc/1.7.5/dc.css\" rel=\"stylesheet\" type=\"text/css\">\n",
       "<script src=\"http://www.pitt.edu/~qim3/js/jquery-ui-new.js\"></script>\n",
       "<script src=\"https://cdnjs.cloudflare.com/ajax/libs/underscore.js/1.8.3/underscore-min.js\"></script>\n",
       "<script src=\"https://cdnjs.cloudflare.com/ajax/libs/d3/3.5.10/d3.min.js\" charset=\"utf-8\"></script>\n",
       "<script src=\"https://cdnjs.cloudflare.com/ajax/libs/crossfilter/1.3.12/crossfilter.min.js\"></script>\n",
       "<script src=\"http://www.pitt.edu/~qim3/js/test.js\"> </script>\n",
       "<script src= \"http://www.pitt.edu/~qim3/js/c3-new.js\"> </script>\n",
       "<script src=\"http://www.pitt.edu/~qim3/js/dc-new.js\"></script>\n",
       "<script src=\"https://code.highcharts.com/highcharts.js\"></script>\n",
       "<script src=\"https://code.highcharts.com/modules/exporting.js\"></script>"
      ],
      "text/plain": [
       "<IPython.core.display.HTML object>"
      ]
     },
     "metadata": {},
     "output_type": "display_data"
    }
   ],
   "source": [
    "%%html\n",
    "<link rel=\"stylesheet\" href=\"https://code.jquery.com/ui/1.11.4/themes/smoothness/jquery-ui.css\">\n",
    "<link href=\"http://www.pitt.edu/~qim3/js/keen-dashboards.css\" rel =\"stylesheet\" type=\"text/css\">\n",
    "<link href=\"https://cdnjs.cloudflare.com/ajax/libs/c3/0.4.10/c3.min.css\" rel=\"stylesheet\" type=\"text/css\">\n",
    "<link href=\"https://cdnjs.cloudflare.com/ajax/libs/dc/1.7.5/dc.css\" rel=\"stylesheet\" type=\"text/css\">\n",
    "<script src=\"http://www.pitt.edu/~qim3/js/jquery-ui-new.js\"></script>\n",
    "<script src=\"https://cdnjs.cloudflare.com/ajax/libs/underscore.js/1.8.3/underscore-min.js\"></script>\n",
    "<script src=\"https://cdnjs.cloudflare.com/ajax/libs/d3/3.5.10/d3.min.js\" charset=\"utf-8\"></script>\n",
    "<script src=\"https://cdnjs.cloudflare.com/ajax/libs/crossfilter/1.3.12/crossfilter.min.js\"></script>\n",
    "<script src=\"http://www.pitt.edu/~qim3/js/test.js\"> </script>\n",
    "<script src= \"http://www.pitt.edu/~qim3/js/c3-new.js\"> </script>\n",
    "<script src=\"http://www.pitt.edu/~qim3/js/dc-new.js\"></script>\n",
    "<script src=\"https://code.highcharts.com/highcharts.js\"></script>\n",
    "<script src=\"https://code.highcharts.com/modules/exporting.js\"></script>\n"
   ]
  },
  {
   "cell_type": "code",
   "execution_count": 2,
   "metadata": {
    "collapsed": true
   },
   "outputs": [],
   "source": [
    "import pandas as pd\n",
    "import pickle\n",
    "import numpy as np\n",
    "import warnings\n",
    "warnings.filterwarnings('ignore')"
   ]
  },
  {
   "cell_type": "code",
   "execution_count": 3,
   "metadata": {
    "collapsed": false
   },
   "outputs": [],
   "source": [
    "import sqlite3\n",
    "\n",
    "# Create a SQL connection to our SQLite database\n",
    "con = sqlite3.connect(\"HGT.db\")\n",
    "\n",
    "df = pd.read_sql_query(\"SELECT * from hgt10\", con)\n",
    "\n",
    "#Be sure to close the connection.\n",
    "con.close()"
   ]
  },
  {
   "cell_type": "code",
   "execution_count": 4,
   "metadata": {
    "collapsed": false
   },
   "outputs": [],
   "source": [
    "SH = df[df.市场 == '上海']\n",
    "SH = SH.drop('id',1) # remove id column\n",
    "SH = SH.drop_duplicates() # remove the duplicates\n",
    "SH = SH.sort(columns = '日期')\n",
    "SH_output = SH.to_json(orient='records', date_unit='s')\n",
    "text_file = open(\"HGT_JSON.txt\", \"w\")\n",
    "text_file.write(SH_output)\n",
    "text_file.close()"
   ]
  },
  {
   "cell_type": "code",
   "execution_count": 5,
   "metadata": {
    "collapsed": false
   },
   "outputs": [
    {
     "data": {
      "text/html": [
       "<div>\n",
       "<table border=\"1\" class=\"dataframe\">\n",
       "  <thead>\n",
       "    <tr style=\"text-align: right;\">\n",
       "      <th></th>\n",
       "      <th>市场</th>\n",
       "      <th>日期</th>\n",
       "      <th>代码</th>\n",
       "      <th>名称</th>\n",
       "      <th>收盘价</th>\n",
       "      <th>涨跌幅</th>\n",
       "      <th>净买额</th>\n",
       "      <th>买入金额</th>\n",
       "      <th>卖出金额</th>\n",
       "      <th>成交金额</th>\n",
       "    </tr>\n",
       "  </thead>\n",
       "  <tbody>\n",
       "    <tr>\n",
       "      <th>5417</th>\n",
       "      <td>上海</td>\n",
       "      <td>2014-11-28 00:00:00.000000</td>\n",
       "      <td>600066</td>\n",
       "      <td>宇通客车</td>\n",
       "      <td>18.67</td>\n",
       "      <td>-0.37</td>\n",
       "      <td>205870534</td>\n",
       "      <td>206029384</td>\n",
       "      <td>158850</td>\n",
       "      <td>206188234</td>\n",
       "    </tr>\n",
       "    <tr>\n",
       "      <th>5329</th>\n",
       "      <td>上海</td>\n",
       "      <td>2014-12-05 00:00:00.000000</td>\n",
       "      <td>600066</td>\n",
       "      <td>宇通客车</td>\n",
       "      <td>20.52</td>\n",
       "      <td>3.43</td>\n",
       "      <td>212824752</td>\n",
       "      <td>230059195</td>\n",
       "      <td>17234443</td>\n",
       "      <td>247293638</td>\n",
       "    </tr>\n",
       "    <tr>\n",
       "      <th>5308</th>\n",
       "      <td>上海</td>\n",
       "      <td>2014-12-08 00:00:00.000000</td>\n",
       "      <td>600066</td>\n",
       "      <td>宇通客车</td>\n",
       "      <td>21.08</td>\n",
       "      <td>2.73</td>\n",
       "      <td>125841391</td>\n",
       "      <td>164212401</td>\n",
       "      <td>38371010</td>\n",
       "      <td>202583412</td>\n",
       "    </tr>\n",
       "    <tr>\n",
       "      <th>5287</th>\n",
       "      <td>上海</td>\n",
       "      <td>2014-12-09 00:00:00.000000</td>\n",
       "      <td>600066</td>\n",
       "      <td>宇通客车</td>\n",
       "      <td>20.98</td>\n",
       "      <td>-0.47</td>\n",
       "      <td>233476417</td>\n",
       "      <td>242712234</td>\n",
       "      <td>9235817</td>\n",
       "      <td>251948051</td>\n",
       "    </tr>\n",
       "    <tr>\n",
       "      <th>5264</th>\n",
       "      <td>上海</td>\n",
       "      <td>2014-12-10 00:00:00.000000</td>\n",
       "      <td>600066</td>\n",
       "      <td>宇通客车</td>\n",
       "      <td>22.42</td>\n",
       "      <td>6.86</td>\n",
       "      <td>82719826</td>\n",
       "      <td>140461013</td>\n",
       "      <td>57741187</td>\n",
       "      <td>198202201</td>\n",
       "    </tr>\n",
       "  </tbody>\n",
       "</table>\n",
       "</div>"
      ],
      "text/plain": [
       "      市场                          日期      代码    名称    收盘价   涨跌幅        净买额  \\\n",
       "5417  上海  2014-11-28 00:00:00.000000  600066  宇通客车  18.67 -0.37  205870534   \n",
       "5329  上海  2014-12-05 00:00:00.000000  600066  宇通客车  20.52  3.43  212824752   \n",
       "5308  上海  2014-12-08 00:00:00.000000  600066  宇通客车  21.08  2.73  125841391   \n",
       "5287  上海  2014-12-09 00:00:00.000000  600066  宇通客车  20.98 -0.47  233476417   \n",
       "5264  上海  2014-12-10 00:00:00.000000  600066  宇通客车  22.42  6.86   82719826   \n",
       "\n",
       "           买入金额      卖出金额       成交金额  \n",
       "5417  206029384    158850  206188234  \n",
       "5329  230059195  17234443  247293638  \n",
       "5308  164212401  38371010  202583412  \n",
       "5287  242712234   9235817  251948051  \n",
       "5264  140461013  57741187  198202201  "
      ]
     },
     "execution_count": 5,
     "metadata": {},
     "output_type": "execute_result"
    }
   ],
   "source": [
    "yutong = SH[SH.名称 == \"宇通客车\"]\n",
    "yutong = yutong.sort(columns = '日期')\n",
    "yutong.head()"
   ]
  },
  {
   "cell_type": "code",
   "execution_count": 6,
   "metadata": {
    "collapsed": false
   },
   "outputs": [
    {
     "data": {
      "application/javascript": [
       "\n",
       "           window.out=[{\"\\u5e02\\u573a\":\"\\u4e0a\\u6d77\",\"\\u65e5\\u671f\":\"2014-11-28 00:00:00.000000\",\"\\u4ee3\\u7801\":\"600066\",\"\\u540d\\u79f0\":\"\\u5b87\\u901a\\u5ba2\\u8f66\",\"\\u6536\\u76d8\\u4ef7\":18.67,\"\\u6da8\\u8dcc\\u5e45\":-0.37,\"\\u51c0\\u4e70\\u989d\":205870534,\"\\u4e70\\u5165\\u91d1\\u989d\":206029384,\"\\u5356\\u51fa\\u91d1\\u989d\":158850,\"\\u6210\\u4ea4\\u91d1\\u989d\":206188234},{\"\\u5e02\\u573a\":\"\\u4e0a\\u6d77\",\"\\u65e5\\u671f\":\"2014-12-05 00:00:00.000000\",\"\\u4ee3\\u7801\":\"600066\",\"\\u540d\\u79f0\":\"\\u5b87\\u901a\\u5ba2\\u8f66\",\"\\u6536\\u76d8\\u4ef7\":20.52,\"\\u6da8\\u8dcc\\u5e45\":3.43,\"\\u51c0\\u4e70\\u989d\":212824752,\"\\u4e70\\u5165\\u91d1\\u989d\":230059195,\"\\u5356\\u51fa\\u91d1\\u989d\":17234443,\"\\u6210\\u4ea4\\u91d1\\u989d\":247293638},{\"\\u5e02\\u573a\":\"\\u4e0a\\u6d77\",\"\\u65e5\\u671f\":\"2014-12-08 00:00:00.000000\",\"\\u4ee3\\u7801\":\"600066\",\"\\u540d\\u79f0\":\"\\u5b87\\u901a\\u5ba2\\u8f66\",\"\\u6536\\u76d8\\u4ef7\":21.08,\"\\u6da8\\u8dcc\\u5e45\":2.73,\"\\u51c0\\u4e70\\u989d\":125841391,\"\\u4e70\\u5165\\u91d1\\u989d\":164212401,\"\\u5356\\u51fa\\u91d1\\u989d\":38371010,\"\\u6210\\u4ea4\\u91d1\\u989d\":202583412},{\"\\u5e02\\u573a\":\"\\u4e0a\\u6d77\",\"\\u65e5\\u671f\":\"2014-12-09 00:00:00.000000\",\"\\u4ee3\\u7801\":\"600066\",\"\\u540d\\u79f0\":\"\\u5b87\\u901a\\u5ba2\\u8f66\",\"\\u6536\\u76d8\\u4ef7\":20.98,\"\\u6da8\\u8dcc\\u5e45\":-0.47,\"\\u51c0\\u4e70\\u989d\":233476417,\"\\u4e70\\u5165\\u91d1\\u989d\":242712234,\"\\u5356\\u51fa\\u91d1\\u989d\":9235817,\"\\u6210\\u4ea4\\u91d1\\u989d\":251948051},{\"\\u5e02\\u573a\":\"\\u4e0a\\u6d77\",\"\\u65e5\\u671f\":\"2014-12-10 00:00:00.000000\",\"\\u4ee3\\u7801\":\"600066\",\"\\u540d\\u79f0\":\"\\u5b87\\u901a\\u5ba2\\u8f66\",\"\\u6536\\u76d8\\u4ef7\":22.42,\"\\u6da8\\u8dcc\\u5e45\":6.86,\"\\u51c0\\u4e70\\u989d\":82719826,\"\\u4e70\\u5165\\u91d1\\u989d\":140461013,\"\\u5356\\u51fa\\u91d1\\u989d\":57741187,\"\\u6210\\u4ea4\\u91d1\\u989d\":198202201},{\"\\u5e02\\u573a\":\"\\u4e0a\\u6d77\",\"\\u65e5\\u671f\":\"2014-12-11 00:00:00.000000\",\"\\u4ee3\\u7801\":\"600066\",\"\\u540d\\u79f0\":\"\\u5b87\\u901a\\u5ba2\\u8f66\",\"\\u6536\\u76d8\\u4ef7\":21.91,\"\\u6da8\\u8dcc\\u5e45\":-2.27,\"\\u51c0\\u4e70\\u989d\":130759,\"\\u4e70\\u5165\\u91d1\\u989d\":84574109,\"\\u5356\\u51fa\\u91d1\\u989d\":84443350,\"\\u6210\\u4ea4\\u91d1\\u989d\":169017459},{\"\\u5e02\\u573a\":\"\\u4e0a\\u6d77\",\"\\u65e5\\u671f\":\"2014-12-15 00:00:00.000000\",\"\\u4ee3\\u7801\":\"600066\",\"\\u540d\\u79f0\":\"\\u5b87\\u901a\\u5ba2\\u8f66\",\"\\u6536\\u76d8\\u4ef7\":22.06,\"\\u6da8\\u8dcc\\u5e45\":3.23,\"\\u51c0\\u4e70\\u989d\":24071843,\"\\u4e70\\u5165\\u91d1\\u989d\":56278387,\"\\u5356\\u51fa\\u91d1\\u989d\":32206544,\"\\u6210\\u4ea4\\u91d1\\u989d\":88484931},{\"\\u5e02\\u573a\":\"\\u4e0a\\u6d77\",\"\\u65e5\\u671f\":\"2014-12-18 00:00:00.000000\",\"\\u4ee3\\u7801\":\"600066\",\"\\u540d\\u79f0\":\"\\u5b87\\u901a\\u5ba2\\u8f66\",\"\\u6536\\u76d8\\u4ef7\":21.6,\"\\u6da8\\u8dcc\\u5e45\":-0.23,\"\\u51c0\\u4e70\\u989d\":109964199,\"\\u4e70\\u5165\\u91d1\\u989d\":134733966,\"\\u5356\\u51fa\\u91d1\\u989d\":24769767,\"\\u6210\\u4ea4\\u91d1\\u989d\":159503733},{\"\\u5e02\\u573a\":\"\\u4e0a\\u6d77\",\"\\u65e5\\u671f\":\"2015-01-07 00:00:00.000000\",\"\\u4ee3\\u7801\":\"600066\",\"\\u540d\\u79f0\":\"\\u5b87\\u901a\\u5ba2\\u8f66\",\"\\u6536\\u76d8\\u4ef7\":24.26,\"\\u6da8\\u8dcc\\u5e45\":2.23,\"\\u51c0\\u4e70\\u989d\":21384246,\"\\u4e70\\u5165\\u91d1\\u989d\":57440233,\"\\u5356\\u51fa\\u91d1\\u989d\":36055987,\"\\u6210\\u4ea4\\u91d1\\u989d\":93496220},{\"\\u5e02\\u573a\":\"\\u4e0a\\u6d77\",\"\\u65e5\\u671f\":\"2015-01-13 00:00:00.000000\",\"\\u4ee3\\u7801\":\"600066\",\"\\u540d\\u79f0\":\"\\u5b87\\u901a\\u5ba2\\u8f66\",\"\\u6536\\u76d8\\u4ef7\":26.01,\"\\u6da8\\u8dcc\\u5e45\":1.05,\"\\u51c0\\u4e70\\u989d\":6016580,\"\\u4e70\\u5165\\u91d1\\u989d\":33514049,\"\\u5356\\u51fa\\u91d1\\u989d\":27497469,\"\\u6210\\u4ea4\\u91d1\\u989d\":61011518},{\"\\u5e02\\u573a\":\"\\u4e0a\\u6d77\",\"\\u65e5\\u671f\":\"2015-01-26 00:00:00.000000\",\"\\u4ee3\\u7801\":\"600066\",\"\\u540d\\u79f0\":\"\\u5b87\\u901a\\u5ba2\\u8f66\",\"\\u6536\\u76d8\\u4ef7\":26.12,\"\\u6da8\\u8dcc\\u5e45\":0.31,\"\\u51c0\\u4e70\\u989d\":56117364,\"\\u4e70\\u5165\\u91d1\\u989d\":70813930,\"\\u5356\\u51fa\\u91d1\\u989d\":14696566,\"\\u6210\\u4ea4\\u91d1\\u989d\":85510496},{\"\\u5e02\\u573a\":\"\\u4e0a\\u6d77\",\"\\u65e5\\u671f\":\"2015-01-28 00:00:00.000000\",\"\\u4ee3\\u7801\":\"600066\",\"\\u540d\\u79f0\":\"\\u5b87\\u901a\\u5ba2\\u8f66\",\"\\u6536\\u76d8\\u4ef7\":26.5,\"\\u6da8\\u8dcc\\u5e45\":-2.89,\"\\u51c0\\u4e70\\u989d\":-24656068,\"\\u4e70\\u5165\\u91d1\\u989d\":114962745,\"\\u5356\\u51fa\\u91d1\\u989d\":139618813,\"\\u6210\\u4ea4\\u91d1\\u989d\":254581558},{\"\\u5e02\\u573a\":\"\\u4e0a\\u6d77\",\"\\u65e5\\u671f\":\"2015-02-17 00:00:00.000000\",\"\\u4ee3\\u7801\":\"600066\",\"\\u540d\\u79f0\":\"\\u5b87\\u901a\\u5ba2\\u8f66\",\"\\u6536\\u76d8\\u4ef7\":28.2,\"\\u6da8\\u8dcc\\u5e45\":3.49,\"\\u51c0\\u4e70\\u989d\":-47379153,\"\\u4e70\\u5165\\u91d1\\u989d\":18473529,\"\\u5356\\u51fa\\u91d1\\u989d\":65852682,\"\\u6210\\u4ea4\\u91d1\\u989d\":84326211},{\"\\u5e02\\u573a\":\"\\u4e0a\\u6d77\",\"\\u65e5\\u671f\":\"2015-03-06 00:00:00.000000\",\"\\u4ee3\\u7801\":\"600066\",\"\\u540d\\u79f0\":\"\\u5b87\\u901a\\u5ba2\\u8f66\",\"\\u6536\\u76d8\\u4ef7\":26.46,\"\\u6da8\\u8dcc\\u5e45\":-2.15,\"\\u51c0\\u4e70\\u989d\":-70320793,\"\\u4e70\\u5165\\u91d1\\u989d\":11769928,\"\\u5356\\u51fa\\u91d1\\u989d\":82090721,\"\\u6210\\u4ea4\\u91d1\\u989d\":93860649},{\"\\u5e02\\u573a\":\"\\u4e0a\\u6d77\",\"\\u65e5\\u671f\":\"2015-04-09 00:00:00.000000\",\"\\u4ee3\\u7801\":\"600066\",\"\\u540d\\u79f0\":\"\\u5b87\\u901a\\u5ba2\\u8f66\",\"\\u6536\\u76d8\\u4ef7\":31.45,\"\\u6da8\\u8dcc\\u5e45\":-1.81,\"\\u51c0\\u4e70\\u989d\":-28135624,\"\\u4e70\\u5165\\u91d1\\u989d\":121912442,\"\\u5356\\u51fa\\u91d1\\u989d\":150048066,\"\\u6210\\u4ea4\\u91d1\\u989d\":271960508},{\"\\u5e02\\u573a\":\"\\u4e0a\\u6d77\",\"\\u65e5\\u671f\":\"2015-04-30 00:00:00.000000\",\"\\u4ee3\\u7801\":\"600066\",\"\\u540d\\u79f0\":\"\\u5b87\\u901a\\u5ba2\\u8f66\",\"\\u6536\\u76d8\\u4ef7\":30.62,\"\\u6da8\\u8dcc\\u5e45\":-1.7,\"\\u51c0\\u4e70\\u989d\":-10131923,\"\\u4e70\\u5165\\u91d1\\u989d\":68475390,\"\\u5356\\u51fa\\u91d1\\u989d\":78607313,\"\\u6210\\u4ea4\\u91d1\\u989d\":147082703},{\"\\u5e02\\u573a\":\"\\u4e0a\\u6d77\",\"\\u65e5\\u671f\":\"2015-05-26 00:00:00.000000\",\"\\u4ee3\\u7801\":\"600066\",\"\\u540d\\u79f0\":\"\\u5b87\\u901a\\u5ba2\\u8f66\",\"\\u6536\\u76d8\\u4ef7\":24.5,\"\\u6da8\\u8dcc\\u5e45\":5.38,\"\\u51c0\\u4e70\\u989d\":337443009,\"\\u4e70\\u5165\\u91d1\\u989d\":372243822,\"\\u5356\\u51fa\\u91d1\\u989d\":34800813,\"\\u6210\\u4ea4\\u91d1\\u989d\":407044635},{\"\\u5e02\\u573a\":\"\\u4e0a\\u6d77\",\"\\u65e5\\u671f\":\"2015-06-17 00:00:00.000000\",\"\\u4ee3\\u7801\":\"600066\",\"\\u540d\\u79f0\":\"\\u5b87\\u901a\\u5ba2\\u8f66\",\"\\u6536\\u76d8\\u4ef7\":21.99,\"\\u6da8\\u8dcc\\u5e45\":-0.86,\"\\u51c0\\u4e70\\u989d\":-45885611,\"\\u4e70\\u5165\\u91d1\\u989d\":51135843,\"\\u5356\\u51fa\\u91d1\\u989d\":97021454,\"\\u6210\\u4ea4\\u91d1\\u989d\":148157297},{\"\\u5e02\\u573a\":\"\\u4e0a\\u6d77\",\"\\u65e5\\u671f\":\"2015-07-17 00:00:00.000000\",\"\\u4ee3\\u7801\":\"600066\",\"\\u540d\\u79f0\":\"\\u5b87\\u901a\\u5ba2\\u8f66\",\"\\u6536\\u76d8\\u4ef7\":20.01,\"\\u6da8\\u8dcc\\u5e45\":3.57,\"\\u51c0\\u4e70\\u989d\":-8898583,\"\\u4e70\\u5165\\u91d1\\u989d\":54805273,\"\\u5356\\u51fa\\u91d1\\u989d\":63703856,\"\\u6210\\u4ea4\\u91d1\\u989d\":118509129},{\"\\u5e02\\u573a\":\"\\u4e0a\\u6d77\",\"\\u65e5\\u671f\":\"2015-07-21 00:00:00.000000\",\"\\u4ee3\\u7801\":\"600066\",\"\\u540d\\u79f0\":\"\\u5b87\\u901a\\u5ba2\\u8f66\",\"\\u6536\\u76d8\\u4ef7\":20.37,\"\\u6da8\\u8dcc\\u5e45\":2.36,\"\\u51c0\\u4e70\\u989d\":-58566495,\"\\u4e70\\u5165\\u91d1\\u989d\":10016049,\"\\u5356\\u51fa\\u91d1\\u989d\":68582544,\"\\u6210\\u4ea4\\u91d1\\u989d\":78598593},{\"\\u5e02\\u573a\":\"\\u4e0a\\u6d77\",\"\\u65e5\\u671f\":\"2015-07-22 00:00:00.000000\",\"\\u4ee3\\u7801\":\"600066\",\"\\u540d\\u79f0\":\"\\u5b87\\u901a\\u5ba2\\u8f66\",\"\\u6536\\u76d8\\u4ef7\":19.77,\"\\u6da8\\u8dcc\\u5e45\":-2.95,\"\\u51c0\\u4e70\\u989d\":-64737585,\"\\u4e70\\u5165\\u91d1\\u989d\":11151890,\"\\u5356\\u51fa\\u91d1\\u989d\":75889475,\"\\u6210\\u4ea4\\u91d1\\u989d\":87041365},{\"\\u5e02\\u573a\":\"\\u4e0a\\u6d77\",\"\\u65e5\\u671f\":\"2015-07-27 00:00:00.000000\",\"\\u4ee3\\u7801\":\"600066\",\"\\u540d\\u79f0\":\"\\u5b87\\u901a\\u5ba2\\u8f66\",\"\\u6536\\u76d8\\u4ef7\":18.41,\"\\u6da8\\u8dcc\\u5e45\":-6.64,\"\\u51c0\\u4e70\\u989d\":104717845,\"\\u4e70\\u5165\\u91d1\\u989d\":136218810,\"\\u5356\\u51fa\\u91d1\\u989d\":31500965,\"\\u6210\\u4ea4\\u91d1\\u989d\":167719775},{\"\\u5e02\\u573a\":\"\\u4e0a\\u6d77\",\"\\u65e5\\u671f\":\"2015-08-04 00:00:00.000000\",\"\\u4ee3\\u7801\":\"600066\",\"\\u540d\\u79f0\":\"\\u5b87\\u901a\\u5ba2\\u8f66\",\"\\u6536\\u76d8\\u4ef7\":21.39,\"\\u6da8\\u8dcc\\u5e45\":4.6,\"\\u51c0\\u4e70\\u989d\":-124462993,\"\\u4e70\\u5165\\u91d1\\u989d\":30934416,\"\\u5356\\u51fa\\u91d1\\u989d\":155397409,\"\\u6210\\u4ea4\\u91d1\\u989d\":186331825},{\"\\u5e02\\u573a\":\"\\u4e0a\\u6d77\",\"\\u65e5\\u671f\":\"2015-08-05 00:00:00.000000\",\"\\u4ee3\\u7801\":\"600066\",\"\\u540d\\u79f0\":\"\\u5b87\\u901a\\u5ba2\\u8f66\",\"\\u6536\\u76d8\\u4ef7\":20.92,\"\\u6da8\\u8dcc\\u5e45\":-2.2,\"\\u51c0\\u4e70\\u989d\":-31606993,\"\\u4e70\\u5165\\u91d1\\u989d\":32041642,\"\\u5356\\u51fa\\u91d1\\u989d\":63648635,\"\\u6210\\u4ea4\\u91d1\\u989d\":95690277},{\"\\u5e02\\u573a\":\"\\u4e0a\\u6d77\",\"\\u65e5\\u671f\":\"2015-08-06 00:00:00.000000\",\"\\u4ee3\\u7801\":\"600066\",\"\\u540d\\u79f0\":\"\\u5b87\\u901a\\u5ba2\\u8f66\",\"\\u6536\\u76d8\\u4ef7\":22.18,\"\\u6da8\\u8dcc\\u5e45\":6.02,\"\\u51c0\\u4e70\\u989d\":-39727716,\"\\u4e70\\u5165\\u91d1\\u989d\":58719347,\"\\u5356\\u51fa\\u91d1\\u989d\":98447063,\"\\u6210\\u4ea4\\u91d1\\u989d\":157166410},{\"\\u5e02\\u573a\":\"\\u4e0a\\u6d77\",\"\\u65e5\\u671f\":\"2015-08-07 00:00:00.000000\",\"\\u4ee3\\u7801\":\"600066\",\"\\u540d\\u79f0\":\"\\u5b87\\u901a\\u5ba2\\u8f66\",\"\\u6536\\u76d8\\u4ef7\":22.03,\"\\u6da8\\u8dcc\\u5e45\":-0.68,\"\\u51c0\\u4e70\\u989d\":72216242,\"\\u4e70\\u5165\\u91d1\\u989d\":80733167,\"\\u5356\\u51fa\\u91d1\\u989d\":8516925,\"\\u6210\\u4ea4\\u91d1\\u989d\":89250092},{\"\\u5e02\\u573a\":\"\\u4e0a\\u6d77\",\"\\u65e5\\u671f\":\"2015-08-12 00:00:00.000000\",\"\\u4ee3\\u7801\":\"600066\",\"\\u540d\\u79f0\":\"\\u5b87\\u901a\\u5ba2\\u8f66\",\"\\u6536\\u76d8\\u4ef7\":21.21,\"\\u6da8\\u8dcc\\u5e45\":-4.03,\"\\u51c0\\u4e70\\u989d\":-82159314,\"\\u4e70\\u5165\\u91d1\\u989d\":7413105,\"\\u5356\\u51fa\\u91d1\\u989d\":89572419,\"\\u6210\\u4ea4\\u91d1\\u989d\":96985524},{\"\\u5e02\\u573a\":\"\\u4e0a\\u6d77\",\"\\u65e5\\u671f\":\"2015-08-14 00:00:00.000000\",\"\\u4ee3\\u7801\":\"600066\",\"\\u540d\\u79f0\":\"\\u5b87\\u901a\\u5ba2\\u8f66\",\"\\u6536\\u76d8\\u4ef7\":21.17,\"\\u6da8\\u8dcc\\u5e45\":-1.58,\"\\u51c0\\u4e70\\u989d\":-31442445,\"\\u4e70\\u5165\\u91d1\\u989d\":17631829,\"\\u5356\\u51fa\\u91d1\\u989d\":49074274,\"\\u6210\\u4ea4\\u91d1\\u989d\":66706103},{\"\\u5e02\\u573a\":\"\\u4e0a\\u6d77\",\"\\u65e5\\u671f\":\"2015-08-24 00:00:00.000000\",\"\\u4ee3\\u7801\":\"600066\",\"\\u540d\\u79f0\":\"\\u5b87\\u901a\\u5ba2\\u8f66\",\"\\u6536\\u76d8\\u4ef7\":17.11,\"\\u6da8\\u8dcc\\u5e45\":-9.38,\"\\u51c0\\u4e70\\u989d\":103864991,\"\\u4e70\\u5165\\u91d1\\u989d\":182235971,\"\\u5356\\u51fa\\u91d1\\u989d\":78370980,\"\\u6210\\u4ea4\\u91d1\\u989d\":260606951},{\"\\u5e02\\u573a\":\"\\u4e0a\\u6d77\",\"\\u65e5\\u671f\":\"2015-09-07 00:00:00.000000\",\"\\u4ee3\\u7801\":\"600066\",\"\\u540d\\u79f0\":\"\\u5b87\\u901a\\u5ba2\\u8f66\",\"\\u6536\\u76d8\\u4ef7\":17.53,\"\\u6da8\\u8dcc\\u5e45\":-4.68,\"\\u51c0\\u4e70\\u989d\":-68985961,\"\\u4e70\\u5165\\u91d1\\u989d\":12304505,\"\\u5356\\u51fa\\u91d1\\u989d\":81290466,\"\\u6210\\u4ea4\\u91d1\\u989d\":93594971},{\"\\u5e02\\u573a\":\"\\u4e0a\\u6d77\",\"\\u65e5\\u671f\":\"2015-09-10 00:00:00.000000\",\"\\u4ee3\\u7801\":\"600066\",\"\\u540d\\u79f0\":\"\\u5b87\\u901a\\u5ba2\\u8f66\",\"\\u6536\\u76d8\\u4ef7\":18.59,\"\\u6da8\\u8dcc\\u5e45\":-0.32,\"\\u51c0\\u4e70\\u989d\":-15169863,\"\\u4e70\\u5165\\u91d1\\u989d\":36922166,\"\\u5356\\u51fa\\u91d1\\u989d\":52092029,\"\\u6210\\u4ea4\\u91d1\\u989d\":89014195},{\"\\u5e02\\u573a\":\"\\u4e0a\\u6d77\",\"\\u65e5\\u671f\":\"2015-09-30 00:00:00.000000\",\"\\u4ee3\\u7801\":\"600066\",\"\\u540d\\u79f0\":\"\\u5b87\\u901a\\u5ba2\\u8f66\",\"\\u6536\\u76d8\\u4ef7\":18.8,\"\\u6da8\\u8dcc\\u5e45\":2.4,\"\\u51c0\\u4e70\\u989d\":38755886,\"\\u4e70\\u5165\\u91d1\\u989d\":40238570,\"\\u5356\\u51fa\\u91d1\\u989d\":1482684,\"\\u6210\\u4ea4\\u91d1\\u989d\":41721254},{\"\\u5e02\\u573a\":\"\\u4e0a\\u6d77\",\"\\u65e5\\u671f\":\"2015-10-12 00:00:00.000000\",\"\\u4ee3\\u7801\":\"600066\",\"\\u540d\\u79f0\":\"\\u5b87\\u901a\\u5ba2\\u8f66\",\"\\u6536\\u76d8\\u4ef7\":19.8,\"\\u6da8\\u8dcc\\u5e45\":3.77,\"\\u51c0\\u4e70\\u989d\":26050959,\"\\u4e70\\u5165\\u91d1\\u989d\":66935551,\"\\u5356\\u51fa\\u91d1\\u989d\":40884592,\"\\u6210\\u4ea4\\u91d1\\u989d\":107820143},{\"\\u5e02\\u573a\":\"\\u4e0a\\u6d77\",\"\\u65e5\\u671f\":\"2015-10-27 00:00:00.000000\",\"\\u4ee3\\u7801\":\"600066\",\"\\u540d\\u79f0\":\"\\u5b87\\u901a\\u5ba2\\u8f66\",\"\\u6536\\u76d8\\u4ef7\":22.19,\"\\u6da8\\u8dcc\\u5e45\":2.54,\"\\u51c0\\u4e70\\u989d\":96349392,\"\\u4e70\\u5165\\u91d1\\u989d\":124807738,\"\\u5356\\u51fa\\u91d1\\u989d\":28458346,\"\\u6210\\u4ea4\\u91d1\\u989d\":153266084},{\"\\u5e02\\u573a\":\"\\u4e0a\\u6d77\",\"\\u65e5\\u671f\":\"2015-10-29 00:00:00.000000\",\"\\u4ee3\\u7801\":\"600066\",\"\\u540d\\u79f0\":\"\\u5b87\\u901a\\u5ba2\\u8f66\",\"\\u6536\\u76d8\\u4ef7\":21.92,\"\\u6da8\\u8dcc\\u5e45\":0.09,\"\\u51c0\\u4e70\\u989d\":17318461,\"\\u4e70\\u5165\\u91d1\\u989d\":49018601,\"\\u5356\\u51fa\\u91d1\\u989d\":31700140,\"\\u6210\\u4ea4\\u91d1\\u989d\":80718741},{\"\\u5e02\\u573a\":\"\\u4e0a\\u6d77\",\"\\u65e5\\u671f\":\"2015-10-30 00:00:00.000000\",\"\\u4ee3\\u7801\":\"600066\",\"\\u540d\\u79f0\":\"\\u5b87\\u901a\\u5ba2\\u8f66\",\"\\u6536\\u76d8\\u4ef7\":21.92,\"\\u6da8\\u8dcc\\u5e45\":0.0,\"\\u51c0\\u4e70\\u989d\":1711889,\"\\u4e70\\u5165\\u91d1\\u989d\":64414830,\"\\u5356\\u51fa\\u91d1\\u989d\":62702941,\"\\u6210\\u4ea4\\u91d1\\u989d\":127117771},{\"\\u5e02\\u573a\":\"\\u4e0a\\u6d77\",\"\\u65e5\\u671f\":\"2015-11-10 00:00:00.000000\",\"\\u4ee3\\u7801\":\"600066\",\"\\u540d\\u79f0\":\"\\u5b87\\u901a\\u5ba2\\u8f66\",\"\\u6536\\u76d8\\u4ef7\":22.17,\"\\u6da8\\u8dcc\\u5e45\":-0.36,\"\\u51c0\\u4e70\\u989d\":-9597191,\"\\u4e70\\u5165\\u91d1\\u989d\":58263471,\"\\u5356\\u51fa\\u91d1\\u989d\":67860662,\"\\u6210\\u4ea4\\u91d1\\u989d\":126124133},{\"\\u5e02\\u573a\":\"\\u4e0a\\u6d77\",\"\\u65e5\\u671f\":\"2015-11-16 00:00:00.000000\",\"\\u4ee3\\u7801\":\"600066\",\"\\u540d\\u79f0\":\"\\u5b87\\u901a\\u5ba2\\u8f66\",\"\\u6536\\u76d8\\u4ef7\":21.99,\"\\u6da8\\u8dcc\\u5e45\":-1.87,\"\\u51c0\\u4e70\\u989d\":-10815505,\"\\u4e70\\u5165\\u91d1\\u989d\":48711101,\"\\u5356\\u51fa\\u91d1\\u989d\":59526606,\"\\u6210\\u4ea4\\u91d1\\u989d\":108237707},{\"\\u5e02\\u573a\":\"\\u4e0a\\u6d77\",\"\\u65e5\\u671f\":\"2015-12-03 00:00:00.000000\",\"\\u4ee3\\u7801\":\"600066\",\"\\u540d\\u79f0\":\"\\u5b87\\u901a\\u5ba2\\u8f66\",\"\\u6536\\u76d8\\u4ef7\":21.71,\"\\u6da8\\u8dcc\\u5e45\":-0.73,\"\\u51c0\\u4e70\\u989d\":10559455,\"\\u4e70\\u5165\\u91d1\\u989d\":65770139,\"\\u5356\\u51fa\\u91d1\\u989d\":55210684,\"\\u6210\\u4ea4\\u91d1\\u989d\":120980823},{\"\\u5e02\\u573a\":\"\\u4e0a\\u6d77\",\"\\u65e5\\u671f\":\"2015-12-04 00:00:00.000000\",\"\\u4ee3\\u7801\":\"600066\",\"\\u540d\\u79f0\":\"\\u5b87\\u901a\\u5ba2\\u8f66\",\"\\u6536\\u76d8\\u4ef7\":21.51,\"\\u6da8\\u8dcc\\u5e45\":-0.92,\"\\u51c0\\u4e70\\u989d\":41997543,\"\\u4e70\\u5165\\u91d1\\u989d\":50932772,\"\\u5356\\u51fa\\u91d1\\u989d\":8935229,\"\\u6210\\u4ea4\\u91d1\\u989d\":59868001},{\"\\u5e02\\u573a\":\"\\u4e0a\\u6d77\",\"\\u65e5\\u671f\":\"2015-12-08 00:00:00.000000\",\"\\u4ee3\\u7801\":\"600066\",\"\\u540d\\u79f0\":\"\\u5b87\\u901a\\u5ba2\\u8f66\",\"\\u6536\\u76d8\\u4ef7\":20.6,\"\\u6da8\\u8dcc\\u5e45\":-4.23,\"\\u51c0\\u4e70\\u989d\":-41228158,\"\\u4e70\\u5165\\u91d1\\u989d\":19543826,\"\\u5356\\u51fa\\u91d1\\u989d\":60771984,\"\\u6210\\u4ea4\\u91d1\\u989d\":80315810},{\"\\u5e02\\u573a\":\"\\u4e0a\\u6d77\",\"\\u65e5\\u671f\":\"2015-12-09 00:00:00.000000\",\"\\u4ee3\\u7801\":\"600066\",\"\\u540d\\u79f0\":\"\\u5b87\\u901a\\u5ba2\\u8f66\",\"\\u6536\\u76d8\\u4ef7\":20.77,\"\\u6da8\\u8dcc\\u5e45\":0.83,\"\\u51c0\\u4e70\\u989d\":41622160,\"\\u4e70\\u5165\\u91d1\\u989d\":50899437,\"\\u5356\\u51fa\\u91d1\\u989d\":9277277,\"\\u6210\\u4ea4\\u91d1\\u989d\":60176714},{\"\\u5e02\\u573a\":\"\\u4e0a\\u6d77\",\"\\u65e5\\u671f\":\"2015-12-10 00:00:00.000000\",\"\\u4ee3\\u7801\":\"600066\",\"\\u540d\\u79f0\":\"\\u5b87\\u901a\\u5ba2\\u8f66\",\"\\u6536\\u76d8\\u4ef7\":20.49,\"\\u6da8\\u8dcc\\u5e45\":-1.35,\"\\u51c0\\u4e70\\u989d\":-37515293,\"\\u4e70\\u5165\\u91d1\\u989d\":14746588,\"\\u5356\\u51fa\\u91d1\\u989d\":52261881,\"\\u6210\\u4ea4\\u91d1\\u989d\":67008469},{\"\\u5e02\\u573a\":\"\\u4e0a\\u6d77\",\"\\u65e5\\u671f\":\"2015-12-14 00:00:00.000000\",\"\\u4ee3\\u7801\":\"600066\",\"\\u540d\\u79f0\":\"\\u5b87\\u901a\\u5ba2\\u8f66\",\"\\u6536\\u76d8\\u4ef7\":20.98,\"\\u6da8\\u8dcc\\u5e45\":1.75,\"\\u51c0\\u4e70\\u989d\":14970399,\"\\u4e70\\u5165\\u91d1\\u989d\":28843579,\"\\u5356\\u51fa\\u91d1\\u989d\":13873180,\"\\u6210\\u4ea4\\u91d1\\u989d\":42716759},{\"\\u5e02\\u573a\":\"\\u4e0a\\u6d77\",\"\\u65e5\\u671f\":\"2015-12-15 00:00:00.000000\",\"\\u4ee3\\u7801\":\"600066\",\"\\u540d\\u79f0\":\"\\u5b87\\u901a\\u5ba2\\u8f66\",\"\\u6536\\u76d8\\u4ef7\":21.33,\"\\u6da8\\u8dcc\\u5e45\":1.67,\"\\u51c0\\u4e70\\u989d\":45267030,\"\\u4e70\\u5165\\u91d1\\u989d\":57670242,\"\\u5356\\u51fa\\u91d1\\u989d\":12403212,\"\\u6210\\u4ea4\\u91d1\\u989d\":70073454},{\"\\u5e02\\u573a\":\"\\u4e0a\\u6d77\",\"\\u65e5\\u671f\":\"2015-12-18 00:00:00.000000\",\"\\u4ee3\\u7801\":\"600066\",\"\\u540d\\u79f0\":\"\\u5b87\\u901a\\u5ba2\\u8f66\",\"\\u6536\\u76d8\\u4ef7\":21.8,\"\\u6da8\\u8dcc\\u5e45\":2.35,\"\\u51c0\\u4e70\\u989d\":85400495,\"\\u4e70\\u5165\\u91d1\\u989d\":99012473,\"\\u5356\\u51fa\\u91d1\\u989d\":13611978,\"\\u6210\\u4ea4\\u91d1\\u989d\":112624451},{\"\\u5e02\\u573a\":\"\\u4e0a\\u6d77\",\"\\u65e5\\u671f\":\"2015-12-21 00:00:00.000000\",\"\\u4ee3\\u7801\":\"600066\",\"\\u540d\\u79f0\":\"\\u5b87\\u901a\\u5ba2\\u8f66\",\"\\u6536\\u76d8\\u4ef7\":22.74,\"\\u6da8\\u8dcc\\u5e45\":4.31,\"\\u51c0\\u4e70\\u989d\":35509305,\"\\u4e70\\u5165\\u91d1\\u989d\":72463562,\"\\u5356\\u51fa\\u91d1\\u989d\":36954257,\"\\u6210\\u4ea4\\u91d1\\u989d\":109417819}];\n",
       "           "
      ],
      "text/plain": [
       "<IPython.core.display.Javascript object>"
      ]
     },
     "execution_count": 6,
     "metadata": {},
     "output_type": "execute_result"
    }
   ],
   "source": [
    "from IPython.display import Javascript\n",
    "#runs arbitrary javascript, client-side\n",
    "#out = Mytools.pdToJSON(MODS.data)\n",
    "\n",
    "#out = yutong.to_json(orient='columns',date_unit='s')\n",
    "out = yutong.to_json(orient='records', date_unit='s')\n",
    "# There should be no code after Javascript \n",
    "Javascript(\"\"\"\n",
    "           window.out={};\n",
    "           \"\"\".format(out))\n"
   ]
  },
  {
   "cell_type": "code",
   "execution_count": 7,
   "metadata": {
    "collapsed": false
   },
   "outputs": [
    {
     "data": {
      "text/html": [
       "<div id=\"container\" style=\"min-width: 310px; height: 400px; margin: 0 auto\"></div>"
      ],
      "text/plain": [
       "<IPython.core.display.HTML object>"
      ]
     },
     "metadata": {},
     "output_type": "display_data"
    }
   ],
   "source": [
    "%%html\n",
    "<div id=\"container\" style=\"min-width: 310px; height: 400px; margin: 0 auto\"></div>"
   ]
  },
  {
   "cell_type": "code",
   "execution_count": 12,
   "metadata": {
    "collapsed": false
   },
   "outputs": [
    {
     "data": {
      "application/javascript": [
       "// out has different data order from python input\n",
       "\n",
       "var format = d3.time.format(\"%Y-%m-%d\");\n",
       "var date = _.pluck(out,'日期');\n",
       "// alert(date);\n",
       "date = $.map(date,function (d){return d.slice(0,10)});\n",
       "// data.forEach(function (d, index, array) {plot1.push(d.Age);});\n",
       "// format.parse(\"2011-01-01\"); // returns a Date\n",
       "//alert(date);\n",
       "var configure =  {\n",
       "               \n",
       "        chart: {\n",
       "            type: 'column',\n",
       "            renderTo: 'container'\n",
       "        },\n",
       "        title: {\n",
       "            text: '宇通客车'\n",
       "        },\n",
       "        subtitle: {\n",
       "            text: '沪港通数据'\n",
       "        },\n",
       "        xAxis: {\n",
       "            categories: date,\n",
       "            crosshair: true\n",
       "        },\n",
       "        yAxis: {\n",
       "            //min: 0,\n",
       "            title: {\n",
       "                text: '金额'\n",
       "            }\n",
       "        },\n",
       "        tooltip: {\n",
       "            headerFormat: '<span style=\"font-size:10px\">{point.key}</span><table>',\n",
       "            pointFormat: '<tr><td style=\"color:{series.color};padding:0\">{series.name}: </td>' +\n",
       "                '<td style=\"padding:0\"><b>{point.y:.1f} mm</b></td></tr>',\n",
       "            footerFormat: '</table>',\n",
       "            shared: true,\n",
       "            useHTML: true\n",
       "        },\n",
       "        plotOptions: {\n",
       "            column: {\n",
       "                pointPadding: 0.2,\n",
       "                borderWidth: 0\n",
       "            }\n",
       "        },\n",
       "        series: [{\n",
       "            name: '净买额',\n",
       "            data: _.pluck(out,'净买额')\n",
       "\n",
       "        }, {\n",
       "            name: '买入金额',\n",
       "            data: _.pluck(out,'买入金额')\n",
       "\n",
       "        }, {\n",
       "            name: '卖出金额',\n",
       "            data: _.pluck(out,'卖出金额')\n",
       "\n",
       "        }, {\n",
       "            name: '成交金额',\n",
       "            data: _.pluck(out,'成交金额')\n",
       "\n",
       "        }]\n",
       "    };\n",
       "\n",
       "$(function () {var chart1 = new Highcharts.chart(configure)});\n"
      ],
      "text/plain": [
       "<IPython.core.display.Javascript object>"
      ]
     },
     "metadata": {},
     "output_type": "display_data"
    }
   ],
   "source": [
    "%%javascript\n",
    "// out has different data order from python input\n",
    "\n",
    "var format = d3.time.format(\"%Y-%m-%d\");\n",
    "var date = _.pluck(out,'日期');\n",
    "// alert(date);\n",
    "date = $.map(date,function (d){return d.slice(0,10)});\n",
    "// data.forEach(function (d, index, array) {plot1.push(d.Age);});\n",
    "// format.parse(\"2011-01-01\"); // returns a Date\n",
    "//alert(date);\n",
    "var configure =  {\n",
    "               \n",
    "        chart: {\n",
    "            type: 'column',\n",
    "            renderTo: 'container'\n",
    "        },\n",
    "        title: {\n",
    "            text: '宇通客车'\n",
    "        },\n",
    "        subtitle: {\n",
    "            text: '沪港通数据'\n",
    "        },\n",
    "        xAxis: {\n",
    "            categories: date,\n",
    "            crosshair: true\n",
    "        },\n",
    "        yAxis: {\n",
    "            //min: 0,\n",
    "            title: {\n",
    "                text: '金额'\n",
    "            }\n",
    "        },\n",
    "        tooltip: {\n",
    "            headerFormat: '<span style=\"font-size:10px\">{point.key}</span><table>',\n",
    "            pointFormat: '<tr><td style=\"color:{series.color};padding:0\">{series.name}: </td>' +\n",
    "                '<td style=\"padding:0\"><b>{point.y:.1f} mm</b></td></tr>',\n",
    "            footerFormat: '</table>',\n",
    "            shared: true,\n",
    "            useHTML: true\n",
    "        },\n",
    "        plotOptions: {\n",
    "            column: {\n",
    "                pointPadding: 0.2,\n",
    "                borderWidth: 0\n",
    "            }\n",
    "        },\n",
    "        series: [{\n",
    "            name: '净买额',\n",
    "            data: _.pluck(out,'净买额')\n",
    "\n",
    "        }, {\n",
    "            name: '买入金额',\n",
    "            data: _.pluck(out,'买入金额')\n",
    "\n",
    "        }, {\n",
    "            name: '卖出金额',\n",
    "            data: _.pluck(out,'卖出金额')\n",
    "\n",
    "        }, {\n",
    "            name: '成交金额',\n",
    "            data: _.pluck(out,'成交金额')\n",
    "\n",
    "        }]\n",
    "    };\n",
    "\n",
    "$(function () {var chart1 = new Highcharts.chart(configure)});\n",
    "\n"
   ]
  }
 ],
 "metadata": {
  "kernelspec": {
   "display_name": "Python 3",
   "language": "python",
   "name": "python3"
  },
  "language_info": {
   "codemirror_mode": {
    "name": "ipython",
    "version": 3
   },
   "file_extension": ".py",
   "mimetype": "text/x-python",
   "name": "python",
   "nbconvert_exporter": "python",
   "pygments_lexer": "ipython3",
   "version": "3.5.1"
  }
 },
 "nbformat": 4,
 "nbformat_minor": 0
}
