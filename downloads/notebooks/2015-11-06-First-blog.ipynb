{
 "cells": [
  {
   "cell_type": "markdown",
   "metadata": {},
   "source": [
    "The purpose of this site is to share the experience, guides and pathes of learning. The content in the site aims for a concise style of writing and will leverage others exisiting work as much as possible. In most of posts, what you will see will be a bunch of hyperlinks that lead to other valuable resources. Essentially my work is to organize them in a logical fashion and provide a high level guide that help you reach the learning goal.\n",
    "\n",
    "So in the first post, I put a guide for how to set up a static website using [Python](https://www.continuum.io/downloads) based [Pelican](http://docs.getpelican.com/) framework and freely host it in [Github](https://github.com/).\n",
    "This post was all written in [ipython notebook](http://ipython.org/notebook.html) or [jupyter](http://jupyter.org/). The ease of integration of ipython notebook to the web content is the primary reason for me to choose Pelican over other static site generators, such as Ruby based [Jekyll](https://www.staticgen.com/) or Javascript based [Hexo](https://www.staticgen.com/), etc. \n",
    "\n",
    "1. Register an account in Github and and setup a repository called \"*yourname*.github.io\" (replace *yourname* with your github username) where we will upload the content of website, see [this for detail](https://pages.github.com/). \n",
    "2. Install pelican, follow [this guide](http://docs.getpelican.com), create content in [markdown language](https://guides.github.com/features/mastering-markdown/), upload the output you generated to <b>1</b>, then done!\n",
    "3. If you want to change the looks for the site, check out [pelican-themes](http://www.pelicanthemes.com/) and its Github [repository](https://github.com/getpelican/pelican-themes). The current theme for this site is adapted from [lazystrap](https://github.com/lazycoder-ru/lazystrap).\n",
    "4. Want to use ipython notebook in pelican? See [Jake VanderPlas' post](https://jakevdp.github.io/blog/2013/05/07/migrating-from-octopress-to-pelican/) and checkout [source file at Github](https://github.com/jakevdp/PythonicPerambulations). Use the settings in his [pelicanconf.py](https://github.com/jakevdp/PythonicPerambulations/blob/master/pelicanconf.py) file<p>\n",
    "5. Tips:\n",
    "  - Google Analytics, [register here](https://www.google.com/analytics/)\n",
    "  - DISQUS for comments, [register here](https://disqus.com/)\n",
    "  - I used the command \"pelican content\" to generate the output, and I have to move settings in publishconf.py to pelicanconf.py     in order to get GOOGLE_ANALYTICS and DISQUS_SITENAME rendered.  \n",
    "  - Make sure to set value for SITEURL, and set RELATIVE_URLS = Ture for testing and False for production.\n",
    "  - To hide the python code in ipython notebook, just add this css code in the markdown file\n",
    "     ```css\n",
    "     <style type=\"text/css\">\n",
    "     .input_prompt, .input_area, .output_prompt {\n",
    "     display:none !important; }\n",
    "     </style>\n",
    "     ```\n",
    "\n",
    "This is the minimal guide for setting up a static website using Python. Thanks!\n",
    "\n"
   ]
  }
 ],
 "metadata": {
  "kernelspec": {
   "display_name": "Python 3",
   "language": "python",
   "name": "python3"
  },
  "language_info": {
   "codemirror_mode": {
    "name": "ipython",
    "version": 3
   },
   "file_extension": ".py",
   "mimetype": "text/x-python",
   "name": "python",
   "nbconvert_exporter": "python",
   "pygments_lexer": "ipython3",
   "version": "3.4.3"
  }
 },
 "nbformat": 4,
 "nbformat_minor": 0
}
