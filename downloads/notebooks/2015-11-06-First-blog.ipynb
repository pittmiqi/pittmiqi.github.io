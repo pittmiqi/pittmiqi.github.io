{
 "cells": [
  {
   "cell_type": "markdown",
   "metadata": {},
   "source": [
    "This is the first post for my website. I decided to put the guides for how to set up a static website using [Python](https://www.continuum.io/downloads) based [pelican](http://docs.getpelican.com/) and freely hosted in [Github](https://github.com/).\n",
    "This post was all written in [ipython notebook](http://ipython.org/notebook.html) or [jupyter](http://jupyter.org/) which are also Python based tools and it is the primary reason for me to choose pelican instead of other static site generators, such as Ruby based [Jekyll](https://www.staticgen.com/) or Javascript based [Hexo](https://www.staticgen.com/), etc. \n",
    "1. Register an account in Github and and setup a repository called \"*yourname*.github.io\" (replace *yourname* with your github username) where we will use to upload the content fo website, see [this for detail](https://pages.github.com/). \n",
    "2. Install pelican, follow [this guide](docs.getpelican.com), create content in [markdown language](https://guides.github.com/features/mastering-markdown/), upload the output you generated to <b>1</b>, then done!\n",
    "3. If you want to change the looks for the site, check out [pelican-themes](http://www.pelicanthemes.com/) and its Github [repository](https://github.com/getpelican/pelican-themes). The current theme for this site is adapted from [lazystrap](https://github.com/lazycoder-ru/lazystrap).\n",
    "4. Want to use ipython notebook in pelican? see [Jake VanderPlas' post](https://jakevdp.github.io/blog/2013/05/07/migrating-from-octopress-to-pelican/) and checkout [source file at Github](https://github.com/jakevdp/PythonicPerambulations). Use the settings in his [pelicanconf.py](https://github.com/jakevdp/PythonicPerambulations/blob/master/pelicanconf.py) file<p>\n",
    "5. Other tips:\n",
    "  - Google Analytics, [register here](https://www.google.com/analytics/)\n",
    "  - DISQUS for comments, [register here](https://disqus.com/)\n",
    "  - I used the command \"pelican content\" to generate the output, and I have to move settings in publishconf.py to pelicanconf.py     in order to get GOOGLE_ANALYTICS and DISQUS_SITENAME rendered.  \n",
    "  - Make sure to set value for SITEURL, and set RELATIVE_URLS = Ture for testing and False for production.\n",
    "\n",
    "This is the minimal guide for setting up a static website using Python. If you have questions, please leave the comments below.\n",
    "\n"
   ]
  }
 ],
 "metadata": {
  "kernelspec": {
   "display_name": "Python 3",
   "language": "python",
   "name": "python3"
  },
  "language_info": {
   "codemirror_mode": {
    "name": "ipython",
    "version": 3
   },
   "file_extension": ".py",
   "mimetype": "text/x-python",
   "name": "python",
   "nbconvert_exporter": "python",
   "pygments_lexer": "ipython3",
   "version": "3.4.3"
  }
 },
 "nbformat": 4,
 "nbformat_minor": 0
}
